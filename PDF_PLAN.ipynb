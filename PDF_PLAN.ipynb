{
 "cells": [
  {
   "cell_type": "code",
   "execution_count": 96,
   "metadata": {},
   "outputs": [],
   "source": [
    "import PyPDF2\n",
    "import re"
   ]
  },
  {
   "cell_type": "code",
   "execution_count": 97,
   "metadata": {},
   "outputs": [],
   "source": [
    "file_path = 'plan5.pdf'\n",
    "\n",
    "pdfFileObj = open(file_path, 'rb') \n",
    "        \n",
    "# creating a pdf reader object \n",
    "pdfReader = PyPDF2.PdfFileReader(pdfFileObj) \n",
    "\n",
    "page_num = pdfReader.numPages\n",
    "pages_text = []\n",
    "for index in range(page_num):\n",
    "    page = pdfReader.getPage(index)\n",
    "    pages_text.append(page.extractText())\n",
    "\n",
    "# extracting text from page \n",
    "#print(info) \n",
    "    \n",
    "# closing the pdf file object \n",
    "pdfFileObj.close() "
   ]
  },
  {
   "cell_type": "code",
   "execution_count": 98,
   "metadata": {},
   "outputs": [],
   "source": [
    "def get_subjects(text) -> str:\n",
    "    pattern = r'.*(?=Wykonał:)'\n",
    "    return re.findall(pattern, text, flags=re.DOTALL)[0]"
   ]
  },
  {
   "cell_type": "code",
   "execution_count": 99,
   "metadata": {},
   "outputs": [
    {
     "ename": "NameError",
     "evalue": "name 'page_1' is not defined",
     "output_type": "error",
     "traceback": [
      "\u001b[1;31m---------------------------------------------------------------------------\u001b[0m",
      "\u001b[1;31mNameError\u001b[0m                                 Traceback (most recent call last)",
      "\u001b[1;32m~\\AppData\\Local\\Temp/ipykernel_4468/3561328123.py\u001b[0m in \u001b[0;36m<module>\u001b[1;34m\u001b[0m\n\u001b[1;32m----> 1\u001b[1;33m \u001b[0mget_subjects\u001b[0m\u001b[1;33m(\u001b[0m\u001b[0mpage_1\u001b[0m\u001b[1;33m)\u001b[0m\u001b[1;33m\u001b[0m\u001b[1;33m\u001b[0m\u001b[0m\n\u001b[0m",
      "\u001b[1;31mNameError\u001b[0m: name 'page_1' is not defined"
     ]
    }
   ],
   "source": [
    "get_subjects(page_1)"
   ]
  },
  {
   "cell_type": "code",
   "execution_count": null,
   "metadata": {},
   "outputs": [
    {
     "ename": "IndexError",
     "evalue": "no such group",
     "output_type": "error",
     "traceback": [
      "\u001b[1;31m---------------------------------------------------------------------------\u001b[0m",
      "\u001b[1;31mIndexError\u001b[0m                                Traceback (most recent call last)",
      "\u001b[1;32m~\\AppData\\Local\\Temp/ipykernel_22516/70085774.py\u001b[0m in \u001b[0;36m<module>\u001b[1;34m\u001b[0m\n\u001b[0;32m      2\u001b[0m \u001b[0mout\u001b[0m \u001b[1;33m=\u001b[0m \u001b[1;32mNone\u001b[0m\u001b[1;33m\u001b[0m\u001b[1;33m\u001b[0m\u001b[0m\n\u001b[0;32m      3\u001b[0m \u001b[1;32mfor\u001b[0m \u001b[0mmatch\u001b[0m \u001b[1;32min\u001b[0m \u001b[0mre\u001b[0m\u001b[1;33m.\u001b[0m\u001b[0mfinditer\u001b[0m\u001b[1;33m(\u001b[0m\u001b[0mpattern\u001b[0m\u001b[1;33m,\u001b[0m \u001b[0mpage_1\u001b[0m\u001b[1;33m,\u001b[0m \u001b[0mre\u001b[0m\u001b[1;33m.\u001b[0m\u001b[0mDOTALL\u001b[0m\u001b[1;33m)\u001b[0m\u001b[1;33m:\u001b[0m\u001b[1;33m\u001b[0m\u001b[1;33m\u001b[0m\u001b[0m\n\u001b[1;32m----> 4\u001b[1;33m     \u001b[0mout\u001b[0m \u001b[1;33m=\u001b[0m \u001b[0mmatch\u001b[0m\u001b[1;33m.\u001b[0m\u001b[0mgroup\u001b[0m\u001b[1;33m(\u001b[0m\u001b[1;36m2\u001b[0m\u001b[1;33m)\u001b[0m\u001b[1;33m\u001b[0m\u001b[1;33m\u001b[0m\u001b[0m\n\u001b[0m",
      "\u001b[1;31mIndexError\u001b[0m: no such group"
     ]
    }
   ],
   "source": [
    "pattern = r\".*(?=Wykonał:)\"\n",
    "out = None\n",
    "for match in re.finditer(pattern, page_1, re.DOTALL):\n",
    "    out = match.group(2)"
   ]
  },
  {
   "cell_type": "code",
   "execution_count": null,
   "metadata": {},
   "outputs": [],
   "source": [
    "def plan_author(text) -> str:\n",
    "    pattern = r'Dziekan:(.*?)(\\w+\\s[A-Z][a-z]+)(?=[A-Z])'\n",
    "    return re.findall(pattern, text, flags=re.DOTALL)[0][-1]"
   ]
  },
  {
   "cell_type": "code",
   "execution_count": null,
   "metadata": {},
   "outputs": [],
   "source": [
    "def get_semestr(text) -> str:\n",
    "    pattern = r'(=?semestr\\s)(\\d+)'\n",
    "    return re.findall(pattern, text, flags=re.DOTALL)[0][-1]"
   ]
  },
  {
   "cell_type": "code",
   "execution_count": null,
   "metadata": {},
   "outputs": [
    {
     "data": {
      "text/plain": [
       "'5'"
      ]
     },
     "execution_count": 75,
     "metadata": {},
     "output_type": "execute_result"
    }
   ],
   "source": [
    "get_semestr(page_1)"
   ]
  },
  {
   "cell_type": "code",
   "execution_count": null,
   "metadata": {},
   "outputs": [
    {
     "data": {
      "text/plain": [
       "'Mariusz Bodzioch'"
      ]
     },
     "execution_count": 65,
     "metadata": {},
     "output_type": "execute_result"
    }
   ],
   "source": [
    "plan_author(page_1)"
   ]
  },
  {
   "cell_type": "code",
   "execution_count": null,
   "metadata": {},
   "outputs": [],
   "source": [
    "def get_date(text, *, week_name: str) -> str:\n",
    "    \"\"\"Get date by given week name\"\"\"\n",
    "    pattern = fr'(=?{week_name}\\s)([0-9.]+)'\n",
    "    return re.findall(pattern, text, flags=re.DOTALL)[0][-1]"
   ]
  },
  {
   "cell_type": "code",
   "execution_count": null,
   "metadata": {},
   "outputs": [
    {
     "data": {
      "text/plain": [
       "'10.10.2020'"
      ]
     },
     "execution_count": 81,
     "metadata": {},
     "output_type": "execute_result"
    }
   ],
   "source": [
    "get_date(page_1, week_name='Sobota')"
   ]
  },
  {
   "cell_type": "code",
   "execution_count": null,
   "metadata": {},
   "outputs": [
    {
     "data": {
      "text/plain": [
       "'11.10.202013'"
      ]
     },
     "execution_count": 82,
     "metadata": {},
     "output_type": "execute_result"
    }
   ],
   "source": [
    "get_date(page_1, week_name='Niedziela')"
   ]
  },
  {
   "cell_type": "code",
   "execution_count": null,
   "metadata": {},
   "outputs": [],
   "source": [
    "from collections import Counter\n",
    "import numpy as np\n",
    "import pandas as pd\n",
    "import enum\n",
    "from pdfminer.pdfparser import PDFParser\n",
    "from pdfminer.pdfdocument import PDFDocument\n",
    "from pdfminer.pdfpage import PDFPage\n",
    "from pdfminer.pdfpage import PDFTextExtractionNotAllowed\n",
    "from pdfminer.pdfinterp import PDFResourceManager\n",
    "from pdfminer.pdfinterp import PDFPageInterpreter\n",
    "from pdfminer.pdfdevice import PDFDevice\n",
    "from pdfminer.layout import LAParams\n",
    "from pdfminer.converter import PDFPageAggregator\n",
    "import pdfminer\n",
    "\n",
    "# Open a PDF file.\n",
    "fp = open('plan5.pdf', 'rb')\n",
    "\n",
    "# Create a PDF parser object associated with the file object.\n",
    "parser = PDFParser(fp)\n",
    "\n",
    "# Create a PDF document object that stores the document structure.\n",
    "# Password for initialization as 2nd parameter\n",
    "document = PDFDocument(parser)\n",
    "\n",
    "# Check if the document allows text extraction. If not, abort.\n",
    "if not document.is_extractable:\n",
    "    raise PDFTextExtractionNotAllowed\n",
    "\n",
    "# Create a PDF resource manager object that stores shared resources.\n",
    "rsrcmgr = PDFResourceManager()\n",
    "\n",
    "# Create a PDF device object.\n",
    "device = PDFDevice(rsrcmgr)\n",
    "\n",
    "# BEGIN LAYOUT ANALYSIS\n",
    "# Set parameters for analysis.\n",
    "laparams = LAParams()\n",
    "\n",
    "# Create a PDF page aggregator object.\n",
    "device = PDFPageAggregator(rsrcmgr, laparams=laparams)\n",
    "\n",
    "# Create a PDF interpreter object.\n",
    "interpreter = PDFPageInterpreter(rsrcmgr, device)\n",
    "\n",
    "info = []\n",
    "\n",
    "def parse_obj(lt_objs, index):\n",
    "\n",
    "    # loop over the object list\n",
    "    for obj in lt_objs:\n",
    "\n",
    "        # if it's a textbox, print text and location\n",
    "        if isinstance(obj, pdfminer.layout.LTTextBoxHorizontal):\n",
    "            print (\"%6d, %6d, %s\" % (obj.bbox[0], obj.bbox[1], obj.get_text().replace('\\n', '_')))\n",
    "            info.append((obj.bbox[0], obj.bbox[1], obj.get_text().replace('\\n', '_'), index))\n",
    "        # if it's a container, recurse\n",
    "        elif isinstance(obj, pdfminer.layout.LTFigure):\n",
    "            parse_obj(obj._objs)\n",
    "\n",
    "# loop over all pages in the document\n",
    "for i, page in enumerate(PDFPage.create_pages(document)):\n",
    "\n",
    "    # read the page into a layout object\n",
    "    interpreter.process_page(page)\n",
    "    layout = device.get_result()\n",
    "\n",
    "    # extract text from this object\n",
    "    parse_obj(layout._objs, i)"
   ]
  },
  {
   "cell_type": "code",
   "execution_count": 115,
   "metadata": {},
   "outputs": [
    {
     "name": "stderr",
     "output_type": "stream",
     "text": [
      "c:\\Users\\Krystian\\anaconda3\\lib\\site-packages\\pandas\\util\\_decorators.py:311: SettingWithCopyWarning: \n",
      "A value is trying to be set on a copy of a slice from a DataFrame\n",
      "\n",
      "See the caveats in the documentation: https://pandas.pydata.org/pandas-docs/stable/user_guide/indexing.html#returning-a-view-versus-a-copy\n",
      "  return func(*args, **kwargs)\n"
     ]
    },
    {
     "data": {
      "text/html": [
       "<div>\n",
       "<style scoped>\n",
       "    .dataframe tbody tr th:only-of-type {\n",
       "        vertical-align: middle;\n",
       "    }\n",
       "\n",
       "    .dataframe tbody tr th {\n",
       "        vertical-align: top;\n",
       "    }\n",
       "\n",
       "    .dataframe thead th {\n",
       "        text-align: right;\n",
       "    }\n",
       "</style>\n",
       "<table border=\"1\" class=\"dataframe\">\n",
       "  <thead>\n",
       "    <tr style=\"text-align: right;\">\n",
       "      <th></th>\n",
       "      <th>x</th>\n",
       "      <th>y</th>\n",
       "      <th>Przedmiot</th>\n",
       "      <th>Strona</th>\n",
       "    </tr>\n",
       "  </thead>\n",
       "  <tbody>\n",
       "    <tr>\n",
       "      <th>0</th>\n",
       "      <td>85.80</td>\n",
       "      <td>473.5816</td>\n",
       "      <td>07:00_</td>\n",
       "      <td>1</td>\n",
       "    </tr>\n",
       "    <tr>\n",
       "      <th>1</th>\n",
       "      <td>137.18</td>\n",
       "      <td>473.5816</td>\n",
       "      <td>08:00_</td>\n",
       "      <td>1</td>\n",
       "    </tr>\n",
       "    <tr>\n",
       "      <th>2</th>\n",
       "      <td>188.54</td>\n",
       "      <td>473.5816</td>\n",
       "      <td>09:00_</td>\n",
       "      <td>1</td>\n",
       "    </tr>\n",
       "    <tr>\n",
       "      <th>3</th>\n",
       "      <td>239.90</td>\n",
       "      <td>473.5816</td>\n",
       "      <td>10:00_</td>\n",
       "      <td>1</td>\n",
       "    </tr>\n",
       "    <tr>\n",
       "      <th>4</th>\n",
       "      <td>291.29</td>\n",
       "      <td>473.5816</td>\n",
       "      <td>11:00_</td>\n",
       "      <td>1</td>\n",
       "    </tr>\n",
       "    <tr>\n",
       "      <th>5</th>\n",
       "      <td>342.65</td>\n",
       "      <td>473.5816</td>\n",
       "      <td>12:00_</td>\n",
       "      <td>1</td>\n",
       "    </tr>\n",
       "    <tr>\n",
       "      <th>6</th>\n",
       "      <td>394.01</td>\n",
       "      <td>473.5816</td>\n",
       "      <td>13:00_</td>\n",
       "      <td>1</td>\n",
       "    </tr>\n",
       "    <tr>\n",
       "      <th>7</th>\n",
       "      <td>445.39</td>\n",
       "      <td>473.5816</td>\n",
       "      <td>14:00_</td>\n",
       "      <td>1</td>\n",
       "    </tr>\n",
       "    <tr>\n",
       "      <th>8</th>\n",
       "      <td>496.75</td>\n",
       "      <td>473.5816</td>\n",
       "      <td>15:00_</td>\n",
       "      <td>1</td>\n",
       "    </tr>\n",
       "    <tr>\n",
       "      <th>9</th>\n",
       "      <td>548.11</td>\n",
       "      <td>473.5816</td>\n",
       "      <td>16:00_</td>\n",
       "      <td>1</td>\n",
       "    </tr>\n",
       "    <tr>\n",
       "      <th>10</th>\n",
       "      <td>599.50</td>\n",
       "      <td>473.5816</td>\n",
       "      <td>17:00_</td>\n",
       "      <td>1</td>\n",
       "    </tr>\n",
       "    <tr>\n",
       "      <th>11</th>\n",
       "      <td>650.86</td>\n",
       "      <td>473.5816</td>\n",
       "      <td>18:00_</td>\n",
       "      <td>1</td>\n",
       "    </tr>\n",
       "    <tr>\n",
       "      <th>12</th>\n",
       "      <td>702.22</td>\n",
       "      <td>473.5816</td>\n",
       "      <td>19:00_</td>\n",
       "      <td>1</td>\n",
       "    </tr>\n",
       "    <tr>\n",
       "      <th>13</th>\n",
       "      <td>753.60</td>\n",
       "      <td>473.5816</td>\n",
       "      <td>20:00_</td>\n",
       "      <td>1</td>\n",
       "    </tr>\n",
       "  </tbody>\n",
       "</table>\n",
       "</div>"
      ],
      "text/plain": [
       "         x         y Przedmiot Strona\n",
       "0    85.80  473.5816    07:00_      1\n",
       "1   137.18  473.5816    08:00_      1\n",
       "2   188.54  473.5816    09:00_      1\n",
       "3   239.90  473.5816    10:00_      1\n",
       "4   291.29  473.5816    11:00_      1\n",
       "5   342.65  473.5816    12:00_      1\n",
       "6   394.01  473.5816    13:00_      1\n",
       "7   445.39  473.5816    14:00_      1\n",
       "8   496.75  473.5816    15:00_      1\n",
       "9   548.11  473.5816    16:00_      1\n",
       "10  599.50  473.5816    17:00_      1\n",
       "11  650.86  473.5816    18:00_      1\n",
       "12  702.22  473.5816    19:00_      1\n",
       "13  753.60  473.5816    20:00_      1"
      ]
     },
     "execution_count": 115,
     "metadata": {},
     "output_type": "execute_result"
    }
   ],
   "source": [
    "def get_hour_from_cord_tekst(val: str) -> str:\n",
    "    if len(hour_definition[hour_definition.x <= val]):\n",
    "        return hour_definition[hour_definition.x <= val].iloc[-1].Przedmiot\n",
    "    return -1\n",
    "def get_hour_from_cord_x(val: str) -> str:\n",
    "    if len(hour_definition[hour_definition.x <= val]):\n",
    "        return hour_definition[hour_definition.x <= val].iloc[-1].x\n",
    "    return -1\n",
    "def map_hour(hour: str, diff: int):\n",
    "    if len(str(hour)) < 3:\n",
    "        return -1\n",
    "    hour = int(hour[:2])\n",
    "    if diff > 38:\n",
    "        return hour + 1\n",
    "    if diff < 13:\n",
    "        return f'{hour}:15'\n",
    "    if diff < 26:\n",
    "        return f'{hour}:30'\n",
    "    return f'{hour}:45'\n",
    "\n",
    "arr = np.array(info)\n",
    "df = pd.DataFrame(arr)\n",
    "df.columns = ['x', 'y', 'Przedmiot', 'Strona']\n",
    "df.x = df.x.astype('float')\n",
    "df.y = df.y.astype('float')\n",
    "df\n",
    "\n",
    "hour_definition = df[(df['Strona'] == '1') & (df['Przedmiot'].str.contains('00_'))]\n",
    "hour_definition.drop_duplicates(subset=['Przedmiot'], inplace=True)\n",
    "hour_definition.reset_index(drop=True, inplace=True)\n",
    "hour_definition"
   ]
  },
  {
   "cell_type": "code",
   "execution_count": 139,
   "metadata": {},
   "outputs": [
    {
     "data": {
      "text/plain": [
       "51"
      ]
     },
     "execution_count": 139,
     "metadata": {},
     "output_type": "execute_result"
    }
   ],
   "source": [
    "hour = hour_definition.iloc[:2,:].x\n",
    "hour_diff = int(hour[1] - hour[0])\n",
    "hour_diff"
   ]
  },
  {
   "cell_type": "code",
   "execution_count": 195,
   "metadata": {},
   "outputs": [],
   "source": [
    "df_tmp = df[df['Strona'] == '1']\n",
    "def map_under_text(row):\n",
    "    df_with_text = df_tmp[(\n",
    "        df_tmp.Przedmiot.str.contains('\\[') == False) \n",
    "        & (df_tmp.y < row.y) \n",
    "        & (df_tmp.y > row.y - 30) \n",
    "        & (df_tmp.x > row.x - hour_diff//2) \n",
    "        & (df_tmp.x < row.x + hour_diff)\n",
    "    ].append(row).sort_index()\n",
    "    return ' '.join(df_with_text.Przedmiot.values).replace('_', '')"
   ]
  },
  {
   "cell_type": "code",
   "execution_count": 205,
   "metadata": {},
   "outputs": [
    {
     "name": "stderr",
     "output_type": "stream",
     "text": [
      "C:\\Users\\Krystian\\AppData\\Local\\Temp/ipykernel_4468/3787455264.py:1: SettingWithCopyWarning: \n",
      "A value is trying to be set on a copy of a slice from a DataFrame.\n",
      "Try using .loc[row_indexer,col_indexer] = value instead\n",
      "\n",
      "See the caveats in the documentation: https://pandas.pydata.org/pandas-docs/stable/user_guide/indexing.html#returning-a-view-versus-a-copy\n",
      "  df_tmp['hour_mapped'] = list(map(get_hour_from_cord_tekst, list(df_tmp.x)))\n",
      "C:\\Users\\Krystian\\AppData\\Local\\Temp/ipykernel_4468/3787455264.py:2: SettingWithCopyWarning: \n",
      "A value is trying to be set on a copy of a slice from a DataFrame.\n",
      "Try using .loc[row_indexer,col_indexer] = value instead\n",
      "\n",
      "See the caveats in the documentation: https://pandas.pydata.org/pandas-docs/stable/user_guide/indexing.html#returning-a-view-versus-a-copy\n",
      "  df_tmp['x_cord_mapped'] = list(map(get_hour_from_cord_x, list(df_tmp.x)))\n",
      "C:\\Users\\Krystian\\AppData\\Local\\Temp/ipykernel_4468/3787455264.py:3: SettingWithCopyWarning: \n",
      "A value is trying to be set on a copy of a slice from a DataFrame.\n",
      "Try using .loc[row_indexer,col_indexer] = value instead\n",
      "\n",
      "See the caveats in the documentation: https://pandas.pydata.org/pandas-docs/stable/user_guide/indexing.html#returning-a-view-versus-a-copy\n",
      "  df_tmp['hour_diff'] = df_tmp.x - df_tmp.x_cord_mapped\n",
      "C:\\Users\\Krystian\\AppData\\Local\\Temp/ipykernel_4468/3787455264.py:4: SettingWithCopyWarning: \n",
      "A value is trying to be set on a copy of a slice from a DataFrame.\n",
      "Try using .loc[row_indexer,col_indexer] = value instead\n",
      "\n",
      "See the caveats in the documentation: https://pandas.pydata.org/pandas-docs/stable/user_guide/indexing.html#returning-a-view-versus-a-copy\n",
      "  df_tmp['Godzina rozpoczęcia'] = df_tmp.apply(lambda x: map_hour(x['hour_mapped'], x['hour_diff']), axis=1)\n",
      "c:\\Users\\Krystian\\anaconda3\\lib\\site-packages\\pandas\\core\\generic.py:5516: SettingWithCopyWarning: \n",
      "A value is trying to be set on a copy of a slice from a DataFrame.\n",
      "Try using .loc[row_indexer,col_indexer] = value instead\n",
      "\n",
      "See the caveats in the documentation: https://pandas.pydata.org/pandas-docs/stable/user_guide/indexing.html#returning-a-view-versus-a-copy\n",
      "  self[name] = value\n"
     ]
    },
    {
     "data": {
      "text/html": [
       "<div>\n",
       "<style scoped>\n",
       "    .dataframe tbody tr th:only-of-type {\n",
       "        vertical-align: middle;\n",
       "    }\n",
       "\n",
       "    .dataframe tbody tr th {\n",
       "        vertical-align: top;\n",
       "    }\n",
       "\n",
       "    .dataframe thead th {\n",
       "        text-align: right;\n",
       "    }\n",
       "</style>\n",
       "<table border=\"1\" class=\"dataframe\">\n",
       "  <thead>\n",
       "    <tr style=\"text-align: right;\">\n",
       "      <th></th>\n",
       "      <th>Przedmiot</th>\n",
       "      <th>Strona</th>\n",
       "      <th>Godzina rozpoczęcia</th>\n",
       "    </tr>\n",
       "  </thead>\n",
       "  <tbody>\n",
       "    <tr>\n",
       "      <th>60</th>\n",
       "      <td>ME [w], dr hab.  L.Błaszkiewicz, sala  C2 L.Bł...</td>\n",
       "      <td>1</td>\n",
       "      <td>13:15</td>\n",
       "    </tr>\n",
       "    <tr>\n",
       "      <th>61</th>\n",
       "      <td>ME [w], dr hab.  L.Błaszkiewicz, sala  C2 L.Bł...</td>\n",
       "      <td>1</td>\n",
       "      <td>15</td>\n",
       "    </tr>\n",
       "    <tr>\n",
       "      <th>66</th>\n",
       "      <td>WdGM [w], dr hab. A.Denisiuk,sala C2</td>\n",
       "      <td>1</td>\n",
       "      <td>16:45</td>\n",
       "    </tr>\n",
       "    <tr>\n",
       "      <th>67</th>\n",
       "      <td>WdGM [w], dr hab. A.Denisiuk,sala C2</td>\n",
       "      <td>1</td>\n",
       "      <td>18:30</td>\n",
       "    </tr>\n",
       "    <tr>\n",
       "      <th>83</th>\n",
       "      <td>IO [w], dr M.Kolev,  sala C2 sala C2 sala C2 s...</td>\n",
       "      <td>1</td>\n",
       "      <td>8</td>\n",
       "    </tr>\n",
       "    <tr>\n",
       "      <th>84</th>\n",
       "      <td>IO [w], dr M.Kolev,  sala C2 sala C2 sala C2 s...</td>\n",
       "      <td>1</td>\n",
       "      <td>9:45</td>\n",
       "    </tr>\n",
       "    <tr>\n",
       "      <th>87</th>\n",
       "      <td>ME [w], dr hab.  L.Błaszkiewicz, sala  C2 L.Bł...</td>\n",
       "      <td>1</td>\n",
       "      <td>11:30</td>\n",
       "    </tr>\n",
       "    <tr>\n",
       "      <th>88</th>\n",
       "      <td>ME [w], dr hab.  L.Błaszkiewicz, sala  C2 L.Bł...</td>\n",
       "      <td>1</td>\n",
       "      <td>13:15</td>\n",
       "    </tr>\n",
       "    <tr>\n",
       "      <th>93</th>\n",
       "      <td>ERI [w], dr inż. B.Nowak, sala C2</td>\n",
       "      <td>1</td>\n",
       "      <td>15</td>\n",
       "    </tr>\n",
       "    <tr>\n",
       "      <th>94</th>\n",
       "      <td>WWW [w], dr inż. B.Nowak, sala C2</td>\n",
       "      <td>1</td>\n",
       "      <td>16:45</td>\n",
       "    </tr>\n",
       "  </tbody>\n",
       "</table>\n",
       "</div>"
      ],
      "text/plain": [
       "                                            Przedmiot Strona  \\\n",
       "60  ME [w], dr hab.  L.Błaszkiewicz, sala  C2 L.Bł...      1   \n",
       "61  ME [w], dr hab.  L.Błaszkiewicz, sala  C2 L.Bł...      1   \n",
       "66               WdGM [w], dr hab. A.Denisiuk,sala C2      1   \n",
       "67               WdGM [w], dr hab. A.Denisiuk,sala C2      1   \n",
       "83  IO [w], dr M.Kolev,  sala C2 sala C2 sala C2 s...      1   \n",
       "84  IO [w], dr M.Kolev,  sala C2 sala C2 sala C2 s...      1   \n",
       "87  ME [w], dr hab.  L.Błaszkiewicz, sala  C2 L.Bł...      1   \n",
       "88  ME [w], dr hab.  L.Błaszkiewicz, sala  C2 L.Bł...      1   \n",
       "93                  ERI [w], dr inż. B.Nowak, sala C2      1   \n",
       "94                  WWW [w], dr inż. B.Nowak, sala C2      1   \n",
       "\n",
       "   Godzina rozpoczęcia  \n",
       "60               13:15  \n",
       "61                  15  \n",
       "66               16:45  \n",
       "67               18:30  \n",
       "83                   8  \n",
       "84                9:45  \n",
       "87               11:30  \n",
       "88               13:15  \n",
       "93                  15  \n",
       "94               16:45  "
      ]
     },
     "execution_count": 205,
     "metadata": {},
     "output_type": "execute_result"
    }
   ],
   "source": [
    "df_tmp['hour_mapped'] = list(map(get_hour_from_cord_tekst, list(df_tmp.x)))\n",
    "df_tmp['x_cord_mapped'] = list(map(get_hour_from_cord_x, list(df_tmp.x)))\n",
    "df_tmp['hour_diff'] = df_tmp.x - df_tmp.x_cord_mapped\n",
    "df_tmp['Godzina rozpoczęcia'] = df_tmp.apply(lambda x: map_hour(x['hour_mapped'], x['hour_diff']), axis=1)\n",
    "df_tmp.Przedmiot = df_tmp.apply(lambda x: map_under_text(x), axis=1)\n",
    "df_tmp[df_tmp.Przedmiot.str.contains('\\[') == True][['Przedmiot', 'Strona', 'Godzina rozpoczęcia']]"
   ]
  },
  {
   "cell_type": "code",
   "execution_count": null,
   "metadata": {},
   "outputs": [],
   "source": [
    "df_tmp.to_csv('output1.csv', index=False)"
   ]
  }
 ],
 "metadata": {
  "kernelspec": {
   "display_name": "Python 3.9.7 ('base')",
   "language": "python",
   "name": "python3"
  },
  "language_info": {
   "codemirror_mode": {
    "name": "ipython",
    "version": 3
   },
   "file_extension": ".py",
   "mimetype": "text/x-python",
   "name": "python",
   "nbconvert_exporter": "python",
   "pygments_lexer": "ipython3",
   "version": "3.9.7"
  },
  "orig_nbformat": 4,
  "vscode": {
   "interpreter": {
    "hash": "1f2e0de83fe549855a174fb6945e5577e3413e9e9f7ec7864d0f7206f698cf70"
   }
  }
 },
 "nbformat": 4,
 "nbformat_minor": 2
}
